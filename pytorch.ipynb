{
 "cells": [
  {
   "cell_type": "markdown",
   "metadata": {},
   "source": [
    "# Pytorch Tutorial"
   ]
  },
  {
   "cell_type": "markdown",
   "metadata": {},
   "source": [
    "Pytorch is a popular deep learning framework and it's easy to get started."
   ]
  },
  {
   "cell_type": "code",
   "execution_count": 1,
   "metadata": {},
   "outputs": [],
   "source": [
    "import torch\n",
    "import torch.nn as nn\n",
    "import torch.utils.data as data\n",
    "import torchvision\n",
    "import torchvision.transforms as transforms\n",
    "from tqdm import tqdm\n",
    "import time\n",
    "\n",
    "BATCH_SIZE = 128\n",
    "NUM_EPOCHS = 10"
   ]
  },
  {
   "cell_type": "markdown",
   "metadata": {},
   "source": [
    "First, we read the mnist data, preprocess them and encapsulate them into dataloader form."
   ]
  },
  {
   "cell_type": "code",
   "execution_count": 2,
   "metadata": {},
   "outputs": [],
   "source": [
    "# preprocessing\n",
    "normalize = transforms.Normalize(mean=[.5], std=[.5])\n",
    "transform = transforms.Compose([transforms.ToTensor(), normalize])\n",
    "\n",
    "# download and load the data\n",
    "train_dataset = torchvision.datasets.MNIST(root='./mnist/', train=True, transform=transform, download=True)\n",
    "test_dataset = torchvision.datasets.MNIST(root='./mnist/', train=False, transform=transform, download=False)\n",
    "\n",
    "# encapsulate them into dataloader form\n",
    "train_loader = data.DataLoader(train_dataset, batch_size=BATCH_SIZE, shuffle=True, drop_last=True)\n",
    "test_loader = data.DataLoader(test_dataset, batch_size=BATCH_SIZE, shuffle=False, drop_last=True)"
   ]
  },
  {
   "cell_type": "markdown",
   "metadata": {},
   "source": [
    "Then, we define the model, object function and optimizer that we use to classify."
   ]
  },
  {
   "cell_type": "code",
   "execution_count": 3,
   "metadata": {},
   "outputs": [],
   "source": [
    "class SimpleNet(nn.Module):\n",
    "# TODO:define model\n",
    "    def __init__(self):\n",
    "        super(SimpleNet,self).__init__()\n",
    "        self.conv1=nn.Conv2d(in_channels=1,out_channels=10,kernel_size=5,stride=1,padding=2)\n",
    "        self.conv2=nn.Conv2d(in_channels=10,out_channels=20,kernel_size=5,stride=1,padding=2)\n",
    "        self.dropout=nn.Dropout2d(p=0.2)\n",
    "        self.fc1=nn.Linear(in_features=980,out_features=50)\n",
    "        self.fc2=nn.Linear(in_features=50,out_features=10)\n",
    "        self.max_pool=nn.functional.max_pool2d\n",
    "        self.relu=nn.functional.relu\n",
    "    \n",
    "    def forward(self,x):\n",
    "        #input is 28*28*1\n",
    "        #conv1(kernel=5,padding=2,filters=10) 28*28*1->28*28*10\n",
    "        #max_pool(kernel=2) 28*28*10->14*14*10\n",
    "        x=self.relu(self.max_pool(self.conv1(x),2))\n",
    "        \n",
    "        #conv2(kernel=5,padding=2,filters=10) 14*14*10->14*14*20\n",
    "        #max_pool(kernel=2) 14*14*20->7*7*20\n",
    "        x = self.relu(self.max_pool(self.dropout(self.conv2(x)),2))\n",
    "        \n",
    "        #flatten 7*7*20=980\n",
    "        x=x.view(-1,980)\n",
    "        \n",
    "        #980->50\n",
    "        x=self.relu(self.fc1(x))\n",
    "        \n",
    "        #50->10\n",
    "        x=self.relu(self.fc2(x))\n",
    "        \n",
    "        return nn.functional.log_softmax(x,dim=1)\n",
    "    \n",
    "model = SimpleNet()\n",
    "param=list(model.parameters())\n",
    "\n",
    "# TODO:define loss function and optimiter\n",
    "criterion = nn.functional.nll_loss\n",
    "optimizer = torch.optim.SGD(param,lr=0.01,momentum=0.9)\n",
    "device=torch.device('cpu')"
   ]
  },
  {
   "cell_type": "markdown",
   "metadata": {},
   "source": [
    "Next, we can start to train and evaluate!"
   ]
  },
  {
   "cell_type": "code",
   "execution_count": 4,
   "metadata": {
    "scrolled": true
   },
   "outputs": [
    {
     "name": "stderr",
     "output_type": "stream",
     "text": [
      "100%|████████████████████████████████████████████████████████████████████████████████| 468/468 [00:45<00:00,  9.58it/s]\n",
      "100%|████████████████████████████████████████████████████████████████████████████████| 468/468 [00:44<00:00, 10.46it/s]\n",
      "100%|████████████████████████████████████████████████████████████████████████████████| 468/468 [00:45<00:00, 10.49it/s]\n",
      "100%|████████████████████████████████████████████████████████████████████████████████| 468/468 [00:45<00:00, 10.56it/s]\n",
      "100%|████████████████████████████████████████████████████████████████████████████████| 468/468 [00:49<00:00,  7.72it/s]\n",
      "100%|████████████████████████████████████████████████████████████████████████████████| 468/468 [00:49<00:00,  9.54it/s]\n",
      "100%|████████████████████████████████████████████████████████████████████████████████| 468/468 [00:47<00:00,  9.87it/s]\n",
      "100%|████████████████████████████████████████████████████████████████████████████████| 468/468 [00:47<00:00, 10.18it/s]\n",
      "100%|████████████████████████████████████████████████████████████████████████████████| 468/468 [00:48<00:00,  9.61it/s]\n",
      "100%|████████████████████████████████████████████████████████████████████████████████| 468/468 [00:47<00:00, 10.14it/s]\n",
      "100%|████████████████████████████████████████████████████████████████████████████████| 468/468 [00:25<00:00, 20.67it/s]\n",
      "100%|██████████████████████████████████████████████████████████████████████████████████| 78/78 [00:04<00:00, 19.59it/s]\n"
     ]
    }
   ],
   "source": [
    "# train and evaluate\n",
    "for epoch in range(NUM_EPOCHS):\n",
    "    for images, labels in tqdm(train_loader):\n",
    "        # TODO:forward + backward + optimize\n",
    "        images,labels=images.to(device),labels.to(device)\n",
    "        \n",
    "        optimizer.zero_grad()\n",
    "        criterion(model(images),labels).backward()\n",
    "        optimizer.step()\n",
    "        \n",
    "        \n",
    "        \n",
    "        \n",
    "    # evaluate\n",
    "    # TODO:calculate the accuracy using traning and testing dataset\n",
    "correct=0\n",
    "for images,labels in tqdm(train_loader):\n",
    "    images,labels=images.to(device),labels.to(device)\n",
    "    \n",
    "    output=model(images)\n",
    "    pred=output.max(1,keepdim=True)[1] #the second element of the returned tuple is the max_index\n",
    "    correct+=pred.eq(labels.view_as(pred)).sum().item() # item returns the value of this tensor as a standard Python number. This only works for tensors with one element.\n",
    "train_accuracy=100.*correct/len(train_loader.dataset)\n",
    "\n",
    "correct=0\n",
    "for images,labels in tqdm(test_loader):\n",
    "    images,labels=images.to(device),labels.to(device)\n",
    "    \n",
    "    output=model(images)\n",
    "    pred=output.max(1,keepdim=True)[1]\n",
    "    correct+=pred.eq(labels.view_as(pred)).sum().item()\n",
    "test_accuracy=100.*correct/len(test_loader.dataset)\n",
    "    \n",
    "    \n",
    "    \n",
    "    \n"
   ]
  },
  {
   "cell_type": "markdown",
   "metadata": {},
   "source": [
    "#### Q5:\n",
    "Please print the training and testing accuracy."
   ]
  },
  {
   "cell_type": "code",
   "execution_count": 5,
   "metadata": {},
   "outputs": [
    {
     "name": "stdout",
     "output_type": "stream",
     "text": [
      "Training accuracy: 98.70%\n",
      "Testing accuracy: 98.41%\n"
     ]
    }
   ],
   "source": [
    "print('Training accuracy: %0.2f%%' % (train_accuracy))\n",
    "print('Testing accuracy: %0.2f%%' % (test_accuracy))"
   ]
  }
 ],
 "metadata": {
  "kernelspec": {
   "display_name": "Python 3",
   "language": "python",
   "name": "python3"
  },
  "language_info": {
   "codemirror_mode": {
    "name": "ipython",
    "version": 3
   },
   "file_extension": ".py",
   "mimetype": "text/x-python",
   "name": "python",
   "nbconvert_exporter": "python",
   "pygments_lexer": "ipython3",
   "version": "3.6.6"
  }
 },
 "nbformat": 4,
 "nbformat_minor": 2
}
